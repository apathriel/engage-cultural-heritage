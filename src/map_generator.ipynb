{
 "cells": [
  {
   "cell_type": "code",
   "execution_count": null,
   "metadata": {},
   "outputs": [],
   "source": [
    "import os\n",
    "import folium\n",
    "from folium.elements import JavascriptLink\n",
    "from folium.plugins import MarkerCluster\n",
    "import geopandas as gpd\n",
    "import pandas as pd"
   ]
  },
  {
   "cell_type": "code",
   "execution_count": null,
   "metadata": {},
   "outputs": [],
   "source": [
    "# Load data\n",
    "monuments = gpd.read_file(\"../data/anlaeg_all_25832.shp\").to_crs(epsg=4326)\n",
    "test_rundhøj = monuments[monuments['anlaegsbet'] == 'Rundhøj']"
   ]
  },
  {
   "cell_type": "code",
   "execution_count": null,
   "metadata": {},
   "outputs": [],
   "source": [
    "with open(\"../src/mytoken.txt\", 'r') as f:\n",
    "    api_token = f.read()"
   ]
  },
  {
   "cell_type": "code",
   "execution_count": null,
   "metadata": {},
   "outputs": [],
   "source": [
    "m = folium.Map(location=[56.2639, 10.2717], zoom_start=6, tiles=\"https://tile.openstreetmap.org/{z}/{x}/{y}.png\", attr='Map data © Stamen Design')\n",
    "\n",
    "# Group the dataframe by 'anlaegsbet'\n",
    "grouped_data = monuments.groupby('anlaegsbet')\n",
    "\n",
    "# Iterate over the groups and create a marker cluster for each\n",
    "for group_name, group_data in grouped_data:\n",
    "    feature_group = folium.FeatureGroup(name=group_name, show=False)\n",
    "    marker_cluster = MarkerCluster()\n",
    "    m.add_child(feature_group)\n",
    "    feature_group.add_child(marker_cluster)\n",
    "    \n",
    "    # Add markers for each point in the group\n",
    "    for index, row in group_data.iterrows():\n",
    "        folium.CircleMarker(location=[row['geometry'].y, row['geometry'].x],\n",
    "                      popup=row['anlaegsbet'],\n",
    "                      tooltip=row['stednavn'],\n",
    "                      radius=8,\n",
    "                      color=\"red\",\n",
    "                      stroke=False,\n",
    "                      fill=True,\n",
    "                      fill_opacity=0.8,\n",
    "                      opacity=1).add_to(marker_cluster)\n",
    "\n",
    "# Add a layer control to the map\n",
    "folium.LayerControl().add_to(m)\n"
   ]
  },
  {
   "cell_type": "code",
   "execution_count": null,
   "metadata": {},
   "outputs": [],
   "source": [
    "m"
   ]
  },
  {
   "cell_type": "code",
   "execution_count": null,
   "metadata": {},
   "outputs": [],
   "source": []
  }
 ],
 "metadata": {
  "kernelspec": {
   "display_name": "Python 3",
   "language": "python",
   "name": "python3"
  },
  "language_info": {
   "codemirror_mode": {
    "name": "ipython",
    "version": 3
   },
   "file_extension": ".py",
   "mimetype": "text/x-python",
   "name": "python",
   "nbconvert_exporter": "python",
   "pygments_lexer": "ipython3",
   "version": "3.12.0"
  }
 },
 "nbformat": 4,
 "nbformat_minor": 2
}
